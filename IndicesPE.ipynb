{
 "cells": [
  {
   "cell_type": "code",
   "execution_count": 1,
   "id": "36a962d3-dc2d-4045-9f00-c3b67524989f",
   "metadata": {
    "tags": []
   },
   "outputs": [
    {
     "data": {
      "application/vnd.jupyter.widget-view+json": {
       "model_id": "96c5c2f7673a4e69af5e2743c1b9d669",
       "version_major": 2,
       "version_minor": 0
      },
      "text/plain": [
       "interactive(children=(Dropdown(description='index_name', options=('Nifty Auto', 'Nifty 100', 'Nifty 50', 'Nift…"
      ]
     },
     "metadata": {},
     "output_type": "display_data"
    }
   ],
   "source": [
    "import plotly.express as px\n",
    "import pandas as pd\n",
    "from ipywidgets import interact\n",
    "\n",
    "# Load data from Excel file\n",
    "data_file_path = r\"D:\\Labeeb Files\\Rogneeds\\Main Excels\\Data Excels\\Indices Data for PE.xlsx\"\n",
    "df = pd.read_excel(data_file_path)\n",
    "\n",
    "# Plotly Express line plot for Closing Price\n",
    "def plot_closing_price(index_name):\n",
    "    fig = px.line(\n",
    "        df[df['Index'] == index_name],\n",
    "        x='Timestamp', y='Closing Index Value',\n",
    "        title=f\"{index_name} - Closing Price\",\n",
    "        labels={'Timestamp': 'Date', 'Closing Index Value': 'Closing Price'},\n",
    "        template='plotly_dark'\n",
    "    )\n",
    "    \n",
    "    fig.update_yaxes(title_text='Closing Price')\n",
    "    \n",
    "    fig.show()\n",
    "\n",
    "# Plotly Express line plot for P/E Ratio\n",
    "def plot_pe_ratio(index_name):\n",
    "    fig = px.line(\n",
    "        df[df['Index'] == index_name],\n",
    "        x='Timestamp', y='P/E',\n",
    "        title=f\"{index_name} - P/E Ratio\",\n",
    "        labels={'Timestamp': 'Date', 'P/E': 'P/E Ratio'},\n",
    "        template='plotly_dark'\n",
    "    )\n",
    "    \n",
    "    fig.update_yaxes(title_text='P/E Ratio')\n",
    "    \n",
    "    fig.show()\n",
    "\n",
    "# Interactive function to choose index and plot\n",
    "@interact(index_name=df['Index'].unique())\n",
    "def interactive_plot(index_name):\n",
    "    plot_closing_price(index_name)\n",
    "    plot_pe_ratio(index_name)\n"
   ]
  },
  {
   "cell_type": "code",
   "execution_count": 1,
   "id": "c668cf10-f2e5-4eab-861d-d3f5646cc77d",
   "metadata": {},
   "outputs": [
    {
     "data": {
      "application/vnd.jupyter.widget-view+json": {
       "model_id": "96c5c2f7673a4e69af5e2743c1b9d669",
       "version_major": 2,
       "version_minor": 0
      },
      "text/plain": [
       "interactive(children=(Dropdown(description='index_name', options=('Nifty Auto', 'Nifty 100', 'Nifty 50', 'Nift…"
      ]
     },
     "metadata": {},
     "output_type": "display_data"
    }
   ],
   "source": [
    "import plotly.express as px\n",
    "import pandas as pd\n",
    "from ipywidgets import interact\n",
    "\n",
    "# Load data from Excel file\n",
    "data_file_path = r\"D:\\Labeeb Files\\Rogneeds\\Main Excels\\Data Excels\\Indices Data for PE.xlsx\"\n",
    "df = pd.read_excel(data_file_path)\n",
    "\n",
    "# Plotly Express line plot for Closing Price\n",
    "def plot_closing_price(index_name):\n",
    "    fig = px.line(\n",
    "        df[df['Index'] == index_name],\n",
    "        x='Timestamp', y='Closing Index Value',\n",
    "        title=f\"{index_name} - Closing Price\",\n",
    "        labels={'Timestamp': 'Date', 'Closing Index Value': 'Closing Price'},\n",
    "        template='plotly_dark'\n",
    "    )\n",
    "    \n",
    "    fig.update_yaxes(title_text='Closing Price')\n",
    "    \n",
    "    fig.show()\n",
    "\n",
    "# Plotly Express line plot for P/E Ratio\n",
    "def plot_pe_ratio(index_name):\n",
    "    fig = px.line(\n",
    "        df[df['Index'] == index_name],\n",
    "        x='Timestamp', y='P/E',\n",
    "        title=f\"{index_name} - P/E Ratio\",\n",
    "        labels={'Timestamp': 'Date', 'P/E': 'P/E Ratio'},\n",
    "        template='plotly_dark'\n",
    "    )\n",
    "    \n",
    "    fig.update_yaxes(title_text='P/E Ratio')\n",
    "    \n",
    "    fig.show()\n",
    "\n",
    "# Interactive function to choose index and plot\n",
    "@interact(index_name=df['Index'].unique())\n",
    "def interactive_plot(index_name):\n",
    "    plot_closing_price(index_name)\n",
    "    plot_pe_ratio(index_name)\n"
   ]
  },
  {
   "cell_type": "code",
   "execution_count": null,
   "id": "fabd7d2c-daae-401d-b9fc-f456f21502e8",
   "metadata": {},
   "outputs": [],
   "source": []
  }
 ],
 "metadata": {
  "kernelspec": {
   "display_name": "Python 3 (ipykernel)",
   "language": "python",
   "name": "python3"
  },
  "language_info": {
   "codemirror_mode": {
    "name": "ipython",
    "version": 3
   },
   "file_extension": ".py",
   "mimetype": "text/x-python",
   "name": "python",
   "nbconvert_exporter": "python",
   "pygments_lexer": "ipython3",
   "version": "3.9.13"
  }
 },
 "nbformat": 4,
 "nbformat_minor": 5
}
